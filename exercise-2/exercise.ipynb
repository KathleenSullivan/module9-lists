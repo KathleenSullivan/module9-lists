{
 "cells": [
  {
   "cell_type": "markdown",
   "metadata": {},
   "source": [
    "# Exercise-2\n",
    "Add the specified code for each code cell, running the cells _in order_."
   ]
  },
  {
   "cell_type": "markdown",
   "metadata": {},
   "source": [
    "Define a function **`count_evens()`** that takes in a _list_ of integers and returns the number that are even (divisible by two). You can use the modulo operator **`%`** to get the remainder when dividing by 2 (e.g., `5%2 == 1`).\n",
    "- This problem is adapted from [CodingBat](http://codingbat.com/prob/p189616), and you can also check your work there!"
   ]
  },
  {
   "cell_type": "code",
   "execution_count": 2,
   "metadata": {
    "collapsed": false
   },
   "outputs": [
    {
     "data": {
      "text/plain": [
       "3"
      ]
     },
     "execution_count": 2,
     "metadata": {},
     "output_type": "execute_result"
    }
   ],
   "source": [
    "def count_evens(integers):\n",
    "    count = 0\n",
    "    for integer in integers:\n",
    "        if integer%2 == 0:\n",
    "            count = count + 1\n",
    "    return count\n",
    "\n",
    "count_evens([1,2,3,4,5,6])"
   ]
  },
  {
   "cell_type": "markdown",
   "metadata": {},
   "source": [
    "Define a function **`get_even_indices()`** that takes in a _list_ of integers and returns a _list_ of the indices for the even elements."
   ]
  },
  {
   "cell_type": "code",
   "execution_count": 6,
   "metadata": {
    "collapsed": false
   },
   "outputs": [
    {
     "data": {
      "text/plain": [
       "[1, 3, 5]"
      ]
     },
     "execution_count": 6,
     "metadata": {},
     "output_type": "execute_result"
    }
   ],
   "source": [
    "def get_even_indices(integers):\n",
    "    indices = []\n",
    "    for i in range(len(integers)):\n",
    "        if integers[i]%2 == 0:\n",
    "            indices.append(i)\n",
    "    return indices\n",
    "\n",
    "get_even_indices([1,2,3,4,5,6,7])"
   ]
  },
  {
   "cell_type": "markdown",
   "metadata": {},
   "source": [
    "Define a function **`rotate_left()`** that takes in a _list_ of elements and \"rotates\" it by moving each element in that list 1 spot to the left, with the first element becoming the last:\n",
    "```python\n",
    "my_list = [1,2,3,4]\n",
    "rotate_left(my_list)\n",
    "print(my_list)  # [2,3,4,1]\n",
    "```\n",
    "For practice, try to do this using a loop (it's more complicated, but good loop/index practice)"
   ]
  },
  {
   "cell_type": "code",
   "execution_count": 14,
   "metadata": {
    "collapsed": false
   },
   "outputs": [
    {
     "data": {
      "text/plain": [
       "[5, 2, 1, 6]"
      ]
     },
     "execution_count": 14,
     "metadata": {},
     "output_type": "execute_result"
    }
   ],
   "source": [
    "def rotate_left(elements):\n",
    "    first = elements[0]\n",
    "    for i in range(1,len(elements)):\n",
    "        elements[i-1] = elements[i]  \n",
    "    elements[-1] = first  \n",
    "    return elements\n",
    "\n",
    "rotate_left([6,5,2,1])"
   ]
  },
  {
   "cell_type": "markdown",
   "metadata": {},
   "source": [
    "A [Caesarean Cipher](https://en.wikipedia.org/wiki/Caesar_cipher) is a simple and ancient encryption technique. It works by taking the a string of text and \"rotating\" each letter a fixed number of places down the alphabet. Thus if the \"rotation\" number is \"3\", then a `A` (the 1st letter) would become a `D` (the 4th), a `B` would become a `E`, and a `Z` would wrap around to become a `C`.\n",
    "\n",
    "Define a method `rotate_text()` that takes in two arguments: a string to encrupt and a number of places to shift each letter. The method should return an \"encrypted\" version of the string, with each letter shifted the appropriate amount. Note that this method can also be used to \"decrypt\" text by shifting in the opposite direction (e.g., a negative amount).\n",
    "- You can convert the argument to uppercase for ease of processing, and to a list of letters if you wish to mutate it.\n",
    "- You can create use a string of all the letters (which is itself a sequence with indices) to look up the shifted rotated letters. The [`find()`](https://docs.python.org/3/library/stdtypes.html#str.find) string method could help."
   ]
  },
  {
   "cell_type": "code",
   "execution_count": 38,
   "metadata": {
    "collapsed": false
   },
   "outputs": [
    {
     "name": "stdout",
     "output_type": "stream",
     "text": [
      "wrbrwd\n"
     ]
    }
   ],
   "source": [
    "def rotate_text(word,shift):\n",
    "    alphabet = \"abcdefghijklmnopqrstuvwxyz\"\n",
    "    lowered = word.lower()\n",
    "    indices = []\n",
    "    for i in range(len(lowered)):\n",
    "        letter = alphabet.find(lowered[i])\n",
    "        if letter > (26-int(shift)):\n",
    "            indices.append(alphabet[(int(shift)-(26-int(letter)))])\n",
    "        else:\n",
    "            indices.append(alphabet[(int(letter)+int(shift))])\n",
    "    print(\"\".join(indices))\n",
    "\n",
    "rotate_text(\"Toyota\",3)"
   ]
  },
  {
   "cell_type": "code",
   "execution_count": null,
   "metadata": {
    "collapsed": true
   },
   "outputs": [],
   "source": []
  }
 ],
 "metadata": {
  "kernelspec": {
   "display_name": "Python 3",
   "language": "python",
   "name": "python3"
  },
  "language_info": {
   "codemirror_mode": {
    "name": "ipython",
    "version": 3
   },
   "file_extension": ".py",
   "mimetype": "text/x-python",
   "name": "python",
   "nbconvert_exporter": "python",
   "pygments_lexer": "ipython3",
   "version": "3.6.0"
  },
  "toc": {
   "colors": {
    "hover_highlight": "#DAA520",
    "running_highlight": "#FF0000",
    "selected_highlight": "#FFD700"
   },
   "moveMenuLeft": true,
   "nav_menu": {
    "height": "30px",
    "width": "252px"
   },
   "navigate_menu": true,
   "number_sections": true,
   "sideBar": true,
   "threshold": 4,
   "toc_cell": false,
   "toc_section_display": "block",
   "toc_window_display": false,
   "widenNotebook": false
  }
 },
 "nbformat": 4,
 "nbformat_minor": 2
}
